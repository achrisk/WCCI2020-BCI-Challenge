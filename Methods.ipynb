{
 "cells": [
  {
   "cell_type": "code",
   "execution_count": 1,
   "metadata": {
    "colab": {},
    "colab_type": "code",
    "id": "yrovBVr9HcWz"
   },
   "outputs": [],
   "source": [
    "from model_utils import *\n",
    "from data_utils import *\n",
    "\n",
    "from sklearn import svm\n",
    "from pyriemann.classification import FgMDM\n",
    "from sklearn.discriminant_analysis import LinearDiscriminantAnalysis\n",
    "\n",
    "%load_ext autoreload\n",
    "%autoreload 2\n",
    "%matplotlib inline\n",
    "\n",
    "physical_devices = tf.config.experimental.list_physical_devices('GPU')\n",
    "tf.config.experimental.set_memory_growth(physical_devices[0], True)"
   ]
  },
  {
   "cell_type": "code",
   "execution_count": 2,
   "metadata": {
    "colab": {},
    "colab_type": "code",
    "id": "DCye0DyhCNzn"
   },
   "outputs": [],
   "source": [
    "sample_rate = 512 #in Hz\n",
    "num_channels = 12"
   ]
  },
  {
   "cell_type": "markdown",
   "metadata": {},
   "source": [
    "# EEGNet"
   ]
  },
  {
   "cell_type": "code",
   "execution_count": 3,
   "metadata": {},
   "outputs": [
    {
     "name": "stdout",
     "output_type": "stream",
     "text": [
      "Mode = within\n",
      "Loaded data for patient 1\n",
      "2/2 [==============================] - 0s 4ms/step - loss: 0.0018 - binary_accuracy: 1.0000\n",
      "1/1 [==============================] - 0s 751us/step - loss: 0.8942 - binary_accuracy: 0.8125\n",
      "Fold 1 done | Kappa: 0.625000 | Accuracy: 0.812500\n",
      "1 0 0 0 1 0 1 1 0 1 1 1 1 1 1 1 0 1 1 1 1 0 1 0 1 0 1 0 0 0 0 0 0 0 0 0 0 0 0 0 \n",
      "X_eval stats:\n",
      "#0:22  |  #1:18\n",
      "2/2 [==============================] - 0s 4ms/step - loss: 0.0024 - binary_accuracy: 1.0000\n",
      "1/1 [==============================] - 0s 1ms/step - loss: 0.4345 - binary_accuracy: 0.8125\n",
      "Fold 2 done | Kappa: 0.625000 | Accuracy: 0.812500\n",
      "1 0 1 0 1 0 0 1 1 1 1 0 1 1 0 1 1 1 0 1 0 1 1 0 0 0 1 0 0 0 0 0 0 0 0 0 0 0 0 0 \n",
      "X_eval stats:\n",
      "#0:24  |  #1:16\n",
      "2/2 [==============================] - 0s 4ms/step - loss: 0.0026 - binary_accuracy: 1.0000\n",
      "1/1 [==============================] - 0s 722us/step - loss: 1.2548 - binary_accuracy: 0.4375\n",
      "Fold 3 done | Kappa: -0.125000 | Accuracy: 0.437500\n",
      "1 0 1 0 1 0 0 0 0 1 0 0 1 0 1 1 0 1 0 1 0 0 1 0 0 1 0 0 0 0 0 0 0 0 1 0 0 0 0 0 \n",
      "X_eval stats:\n",
      "#0:28  |  #1:12\n",
      "2/2 [==============================] - 0s 4ms/step - loss: 0.0023 - binary_accuracy: 1.0000\n",
      "1/1 [==============================] - 0s 890us/step - loss: 2.0113 - binary_accuracy: 0.5000\n",
      "Fold 4 done | Kappa: 0.000000 | Accuracy: 0.500000\n",
      "1 1 0 0 1 0 1 0 0 1 1 1 1 1 0 1 1 0 0 1 1 0 1 0 1 1 1 0 1 0 1 0 1 0 1 0 1 0 1 0 \n",
      "X_eval stats:\n",
      "#0:17  |  #1:23\n",
      "2/2 [==============================] - 0s 4ms/step - loss: 0.0013 - binary_accuracy: 1.0000\n",
      "1/1 [==============================] - 0s 916us/step - loss: 0.9460 - binary_accuracy: 0.5625\n",
      "Fold 5 done | Kappa: 0.125000 | Accuracy: 0.562500\n",
      "1 1 1 0 1 0 0 1 1 1 1 1 1 1 1 1 1 1 1 1 1 1 1 1 1 1 0 0 0 1 1 0 0 0 1 0 0 0 0 0 \n",
      "X_eval stats:\n",
      "#0:14  |  #1:26\n",
      "Patient=1 | Kappa: 0.250000 | Accuracy=0.625000\n",
      "\n"
     ]
    }
   ],
   "source": [
    "patients = [1]\n",
    "num_folds = 10\n",
    "num_epochs = 300\n",
    "flt_size = 128\n",
    "\n",
    "eegnet_scores = cross_val(eegnet, patients=patients, num_epochs=num_epochs, flt_size=flt_size)"
   ]
  },
  {
   "cell_type": "markdown",
   "metadata": {},
   "source": [
    "## DNN"
   ]
  },
  {
   "cell_type": "code",
   "execution_count": 4,
   "metadata": {
    "colab": {
     "base_uri": "https://localhost:8080/",
     "height": 425
    },
    "colab_type": "code",
    "id": "tchOR8uvMapY",
    "outputId": "0c0bd5ac-d113-4ed0-983d-a15f79ac0e7e",
    "scrolled": false
   },
   "outputs": [
    {
     "name": "stdout",
     "output_type": "stream",
     "text": [
      "Mode = within\n",
      "Loaded data for patient 1\n",
      "2/2 [==============================] - 0s 1ms/step - loss: 0.0095 - binary_accuracy: 1.0000\n",
      "1/1 [==============================] - 0s 766us/step - loss: 0.1536 - binary_accuracy: 0.9375\n",
      "Fold 1 done | Kappa: 0.875000 | Accuracy: 0.937500\n",
      "1 0 1 1 0 0 0 1 1 1 1 1 1 1 0 1 1 1 1 1 0 0 1 1 0 1 1 0 0 0 0 0 0 0 0 0 0 0 0 0 \n",
      "X_eval stats:\n",
      "#0:21  |  #1:19\n",
      "2/2 [==============================] - 0s 1ms/step - loss: 0.0062 - binary_accuracy: 1.0000\n",
      "1/1 [==============================] - 0s 793us/step - loss: 0.6318 - binary_accuracy: 0.8125\n",
      "Fold 2 done | Kappa: 0.625000 | Accuracy: 0.812500\n",
      "1 0 1 0 0 0 0 0 1 1 1 1 1 1 0 1 1 1 1 1 0 1 1 1 1 1 1 0 0 0 0 0 0 0 0 0 0 0 0 0 \n",
      "X_eval stats:\n",
      "#0:21  |  #1:19\n",
      "2/2 [==============================] - 0s 1ms/step - loss: 0.0102 - binary_accuracy: 1.0000\n",
      "1/1 [==============================] - 0s 715us/step - loss: 0.0720 - binary_accuracy: 1.0000\n",
      "Fold 3 done | Kappa: 1.000000 | Accuracy: 1.000000\n",
      "1 0 1 0 0 0 0 0 1 1 1 1 1 1 0 1 1 1 1 1 0 1 1 1 1 1 1 0 0 0 0 0 0 0 0 0 0 0 0 0 \n",
      "X_eval stats:\n",
      "#0:21  |  #1:19\n",
      "2/2 [==============================] - 0s 1ms/step - loss: 0.0100 - binary_accuracy: 1.0000\n",
      "1/1 [==============================] - 0s 994us/step - loss: 0.1652 - binary_accuracy: 0.8750\n",
      "Fold 4 done | Kappa: 0.750000 | Accuracy: 0.875000\n",
      "0 0 1 0 1 0 0 0 1 1 1 1 0 1 0 1 1 1 1 1 0 1 1 1 1 1 1 0 0 0 0 0 0 0 1 0 0 0 0 0 \n",
      "X_eval stats:\n",
      "#0:21  |  #1:19\n",
      "2/2 [==============================] - 0s 1ms/step - loss: 0.0089 - binary_accuracy: 1.0000\n",
      "1/1 [==============================] - 0s 778us/step - loss: 0.6023 - binary_accuracy: 0.7500\n",
      "Fold 5 done | Kappa: 0.500000 | Accuracy: 0.750000\n",
      "1 0 1 0 0 0 0 1 1 1 1 1 1 1 0 1 1 1 1 1 1 1 1 1 1 1 1 0 0 0 0 0 0 0 0 0 0 0 0 0 \n",
      "X_eval stats:\n",
      "#0:19  |  #1:21\n",
      "Patient=1 | Kappa: 0.750000 | Accuracy=0.875000\n",
      "\n"
     ]
    }
   ],
   "source": [
    "patients = [1]\n",
    "num_folds = 10\n",
    "num_epochs = 500\n",
    "num_hid = 16\n",
    "\n",
    "dnn_scores = cross_val(get_model, patients=patients, num_epochs=num_epochs, num_hid=num_hid)"
   ]
  },
  {
   "cell_type": "markdown",
   "metadata": {},
   "source": [
    "## SVM"
   ]
  },
  {
   "cell_type": "code",
   "execution_count": 5,
   "metadata": {
    "scrolled": false
   },
   "outputs": [
    {
     "name": "stdout",
     "output_type": "stream",
     "text": [
      "Mode = within\n",
      "Loaded data for patient 1\n",
      "Fold 1 done | Kappa: 1.000000 | Accuracy: 1.000000\n",
      "1 1 1 1 1 0 1 1 1 1 1 1 0 1 0 1 1 1 1 0 0 0 0 1 1 0 0 0 0 0 0 0 0 0 0 0 0 0 0 0 \n",
      "X_eval stats:\n",
      "#0:22  |  #1:18\n",
      "Fold 2 done | Kappa: 0.393939 | Accuracy: 0.687500\n",
      "1 1 1 1 1 1 1 1 1 1 1 1 1 1 0 1 1 1 1 0 0 0 0 0 0 0 0 0 0 0 0 0 0 0 0 0 0 0 0 0 \n",
      "X_eval stats:\n",
      "#0:22  |  #1:18\n",
      "Fold 3 done | Kappa: 0.612903 | Accuracy: 0.812500\n",
      "1 1 1 1 1 0 1 1 1 1 1 1 0 1 0 1 1 1 1 0 0 0 0 0 1 1 0 0 0 0 0 0 0 0 0 0 0 0 0 0 \n",
      "X_eval stats:\n",
      "#0:22  |  #1:18\n",
      "Fold 4 done | Kappa: 0.428571 | Accuracy: 0.687500\n",
      "1 1 1 1 1 1 1 1 1 1 1 1 1 1 0 1 1 1 1 1 0 0 0 1 1 1 0 0 0 0 0 0 0 0 0 0 0 0 0 0 \n",
      "X_eval stats:\n",
      "#0:18  |  #1:22\n",
      "Fold 5 done | Kappa: 0.625000 | Accuracy: 0.812500\n",
      "1 1 1 1 1 1 1 1 1 1 1 1 0 1 0 1 1 0 0 0 0 0 0 0 0 0 0 0 0 0 0 0 0 0 0 0 0 0 0 0 \n",
      "X_eval stats:\n",
      "#0:25  |  #1:15\n",
      "Patient=1 | Kappa=0.612083 | Accuracy=0.800000\n",
      "\n"
     ]
    }
   ],
   "source": [
    "patients = [1]\n",
    "\n",
    "svm_scores = cross_val(svm.SVC, patients=patients)"
   ]
  },
  {
   "cell_type": "markdown",
   "metadata": {},
   "source": [
    "## FgMDM"
   ]
  },
  {
   "cell_type": "code",
   "execution_count": 6,
   "metadata": {
    "scrolled": false
   },
   "outputs": [
    {
     "name": "stdout",
     "output_type": "stream",
     "text": [
      "Mode = within\n",
      "Loaded data for patient 1\n",
      "Fold 1 done | Kappa: 0.750000 | Accuracy: 0.875000\n",
      "0 0 0 0 0 0 0 0 1 1 1 1 1 1 0 1 1 1 1 1 1 1 1 1 1 0 1 0 0 0 0 0 0 0 0 0 0 0 0 0 \n",
      "X_eval stats:\n",
      "#0:23  |  #1:17\n",
      "Fold 2 done | Kappa: 0.733333 | Accuracy: 0.875000\n",
      "0 0 0 0 0 0 0 0 1 0 1 1 1 1 0 1 1 1 1 1 0 1 1 1 1 0 1 0 0 0 0 0 0 0 0 0 0 0 0 0 \n",
      "X_eval stats:\n",
      "#0:25  |  #1:15\n",
      "Fold 3 done | Kappa: 0.507692 | Accuracy: 0.750000\n",
      "0 0 0 0 0 0 0 0 1 0 1 1 1 1 0 1 1 1 1 1 1 1 0 1 1 0 1 0 0 0 0 0 0 0 0 0 0 0 0 0 \n",
      "X_eval stats:\n",
      "#0:25  |  #1:15\n",
      "Fold 4 done | Kappa: 0.522388 | Accuracy: 0.750000\n",
      "1 0 0 0 0 0 0 1 1 1 1 1 1 1 0 1 1 1 1 1 1 1 0 1 1 0 1 0 0 0 0 0 0 0 0 0 0 0 0 0 \n",
      "X_eval stats:\n",
      "#0:22  |  #1:18\n",
      "Fold 5 done | Kappa: 0.875000 | Accuracy: 0.937500\n",
      "0 0 0 0 0 0 0 0 1 1 1 1 0 1 0 1 1 1 1 1 0 1 0 1 1 0 1 0 0 0 0 0 0 0 0 0 0 0 0 0 \n",
      "X_eval stats:\n",
      "#0:26  |  #1:14\n",
      "Patient=1 | Kappa=0.677683 | Accuracy=0.837500\n",
      "\n"
     ]
    }
   ],
   "source": [
    "patients = [1]\n",
    "\n",
    "fgmdm_scores = cross_val(model_fn=FgMDM, data_fn=get_covar, patients=patients)"
   ]
  },
  {
   "cell_type": "markdown",
   "metadata": {},
   "source": [
    "## LDA"
   ]
  },
  {
   "cell_type": "code",
   "execution_count": 7,
   "metadata": {
    "scrolled": false
   },
   "outputs": [
    {
     "name": "stdout",
     "output_type": "stream",
     "text": [
      "Mode = within\n",
      "Loaded data for patient 1\n",
      "Fold 1 done | Kappa: 0.500000 | Accuracy: 0.750000\n",
      "0 0 0 0 0 1 0 0 1 0 1 1 0 1 1 0 1 1 1 1 1 1 1 1 1 1 1 0 0 1 0 1 0 0 1 0 0 0 0 0 \n",
      "X_eval stats:\n",
      "#0:20  |  #1:20\n",
      "Fold 2 done | Kappa: 0.125000 | Accuracy: 0.562500\n",
      "0 1 0 1 0 0 0 0 1 0 1 0 0 1 0 0 1 1 1 1 0 1 0 1 1 0 1 1 0 1 0 1 1 0 0 0 0 0 1 0 \n",
      "X_eval stats:\n",
      "#0:22  |  #1:18\n",
      "Fold 3 done | Kappa: 0.393939 | Accuracy: 0.687500\n",
      "0 0 0 0 0 0 0 0 1 0 1 1 0 1 0 1 1 0 1 0 0 1 1 1 1 1 1 0 1 1 0 1 1 0 1 0 1 1 1 0 \n",
      "X_eval stats:\n",
      "#0:19  |  #1:21\n",
      "Fold 4 done | Kappa: 0.625000 | Accuracy: 0.812500\n",
      "0 0 1 0 0 0 0 0 1 1 0 1 0 1 0 1 1 1 1 1 0 0 0 1 1 0 1 0 1 1 1 0 0 0 1 0 0 0 0 0 \n",
      "X_eval stats:\n",
      "#0:23  |  #1:17\n",
      "Fold 5 done | Kappa: 0.500000 | Accuracy: 0.750000\n",
      "0 0 0 0 0 0 0 0 0 0 1 1 0 1 0 1 1 1 1 1 1 1 0 1 1 1 1 0 1 1 0 1 0 0 1 0 0 0 0 0 \n",
      "X_eval stats:\n",
      "#0:22  |  #1:18\n",
      "Patient=1 | Kappa=0.428788 | Accuracy=0.712500\n",
      "\n"
     ]
    }
   ],
   "source": [
    "patients = [1]\n",
    "\n",
    "lda_scores = cross_val(model_fn=LinearDiscriminantAnalysis, data_fn=get_riemann_ts, patients=patients)"
   ]
  }
 ],
 "metadata": {
  "colab": {
   "name": "WCCI_2020_EEGNet.ipynb",
   "provenance": []
  },
  "kernelspec": {
   "display_name": "Python 3",
   "language": "python",
   "name": "python3"
  },
  "language_info": {
   "codemirror_mode": {
    "name": "ipython",
    "version": 3
   },
   "file_extension": ".py",
   "mimetype": "text/x-python",
   "name": "python",
   "nbconvert_exporter": "python",
   "pygments_lexer": "ipython3",
   "version": "3.7.5"
  }
 },
 "nbformat": 4,
 "nbformat_minor": 1
}
