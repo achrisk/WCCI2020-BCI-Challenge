{
 "cells": [
  {
   "cell_type": "code",
   "execution_count": null,
   "metadata": {
    "colab": {},
    "colab_type": "code",
    "id": "yrovBVr9HcWz"
   },
   "outputs": [],
   "source": [
    "from model_utils import *\n",
    "from data_utils import *\n",
    "import numpy as np\n",
    "\n",
    "%load_ext autoreload\n",
    "%autoreload 2\n",
    "\n",
    "physical_devices = tf.config.experimental.list_physical_devices('GPU')\n",
    "tf.config.experimental.set_memory_growth(physical_devices[0], True)"
   ]
  },
  {
   "cell_type": "markdown",
   "metadata": {},
   "source": [
    "# WITHIN SUBJECT CLASSIFICATION"
   ]
  },
  {
   "cell_type": "code",
   "execution_count": null,
   "metadata": {
    "scrolled": false
   },
   "outputs": [],
   "source": [
    "patients = range(1, 9)\n",
    "mode = \"within\"\n",
    "\n",
    "for i in patients:\n",
    "    y_eval = np.zeros(40, dtype=\"int32\")\n",
    "    print('\\n\\n========================= PATIENT %d RESULTS ========================='%(i))\n",
    "    y_eval += eval_methods(get_model, get_riemann_ts, mode, i, 500, 16, 7)\n",
    "        \n",
    "    print('\\nPatient %d FINAL results:\\n#1:%d  |  #2:%d\\n'%(i, sum(1 for x in y_eval if x==0), sum(1 for x in y_eval if x==1)))\n",
    "    for ye in y_eval:\n",
    "        print(ye+1, end=' ')"
   ]
  },
  {
   "cell_type": "markdown",
   "metadata": {},
   "source": [
    "# CROSS SUBJECT CLASSIFICATION"
   ]
  },
  {
   "cell_type": "code",
   "execution_count": null,
   "metadata": {
    "scrolled": false
   },
   "outputs": [],
   "source": [
    "patients = [9, 10]\n",
    "mode = \"inter\"\n",
    "\n",
    "for i in patients:\n",
    "    print('\\n\\n========================= PATIENT %d RESULTS ========================='%(i))\n",
    "    y_eval = np.zeros(40, dtype=\"int32\")\n",
    "    y_eval += eval_methods(get_model, get_riemann_ts, mode, i, 500, 16, 7)\n",
    "    y_eval += eval_methods(svm.SVC, get_riemann_ts, mode, i)\n",
    "    y_eval += eval_eegnet(mode, i, 500, 128, 11)\n",
    "    for j in range(y_eval.size):\n",
    "        if y_eval[j]>1:\n",
    "            y_eval[j] = 1\n",
    "        else:\n",
    "            y_eval[j] = 0\n",
    "    \n",
    "    print('\\nPatient %d FINAL results:\\n#1:%d  |  #2:%d\\n'%(i, sum(1 for x in y_eval if x==0), sum(1 for x in y_eval if x==1)))\n",
    "    for ye in y_eval:\n",
    "        print(ye+1, end=' ')"
   ]
  }
 ],
 "metadata": {
  "colab": {
   "name": "WCCI_2020_EEGNet.ipynb",
   "provenance": []
  },
  "kernelspec": {
   "display_name": "Python 3",
   "language": "python",
   "name": "python3"
  },
  "language_info": {
   "codemirror_mode": {
    "name": "ipython",
    "version": 3
   },
   "file_extension": ".py",
   "mimetype": "text/x-python",
   "name": "python",
   "nbconvert_exporter": "python",
   "pygments_lexer": "ipython3",
   "version": "3.7.5"
  }
 },
 "nbformat": 4,
 "nbformat_minor": 1
}
